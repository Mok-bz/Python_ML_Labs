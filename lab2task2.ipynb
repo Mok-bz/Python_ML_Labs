{
  "nbformat": 4,
  "nbformat_minor": 0,
  "metadata": {
    "colab": {
      "provenance": [],
      "authorship_tag": "ABX9TyOGlBrwPiJ7IrEWee952fX5",
      "include_colab_link": true
    },
    "kernelspec": {
      "name": "python3",
      "display_name": "Python 3"
    },
    "language_info": {
      "name": "python"
    }
  },
  "cells": [
    {
      "cell_type": "markdown",
      "metadata": {
        "id": "view-in-github",
        "colab_type": "text"
      },
      "source": [
        "<a href=\"https://colab.research.google.com/github/Mok-bz/Python_ML_Labs/blob/main/lab2task2.ipynb\" target=\"_parent\"><img src=\"https://colab.research.google.com/assets/colab-badge.svg\" alt=\"Open In Colab\"/></a>"
      ]
    },
    {
      "cell_type": "code",
      "execution_count": null,
      "metadata": {
        "id": "3s5cVVPoy5lE"
      },
      "outputs": [],
      "source": [
        "import random #importing library for random number generation\n",
        "import numpy as np\n",
        "\n",
        "list = []\n",
        "value = np.random.random(10)\n",
        "count = len(value)\n",
        "i = 0\n",
        "\n",
        "for i in range(count):\n",
        "  list.append(value[i])\n",
        "\n",
        "print(list)\n",
        "print(count)\n"
      ]
    }
  ]
}