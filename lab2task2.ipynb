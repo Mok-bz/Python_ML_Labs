{
  "nbformat": 4,
  "nbformat_minor": 0,
  "metadata": {
    "colab": {
      "provenance": [],
      "authorship_tag": "ABX9TyPMwr/Ue5WLu1//lqWkf2m6",
      "include_colab_link": true
    },
    "kernelspec": {
      "name": "python3",
      "display_name": "Python 3"
    },
    "language_info": {
      "name": "python"
    }
  },
  "cells": [
    {
      "cell_type": "markdown",
      "metadata": {
        "id": "view-in-github",
        "colab_type": "text"
      },
      "source": [
        "<a href=\"https://colab.research.google.com/github/Mok-bz/Python_ML_Labs/blob/while_variant/lab2task2.ipynb\" target=\"_parent\"><img src=\"https://colab.research.google.com/assets/colab-badge.svg\" alt=\"Open In Colab\"/></a>"
      ]
    },
    {
      "cell_type": "code",
      "execution_count": 7,
      "metadata": {
        "id": "3s5cVVPoy5lE"
      },
      "outputs": [],
      "source": [
        "import random #importing library for random number generation\n",
        "import numpy as np\n",
        "\n",
        "list = []\n",
        "value = np.random.random(10)\n",
        "count = len(value)\n",
        "i = 0\n",
        "\n",
        "for i in range(count):\n",
        "  list.append(value[i])\n",
        "\n",
        "\n"
      ]
    },
    {
      "cell_type": "code",
      "source": [
        "\n",
        "i = 0\n",
        "while(i<= 9):\n",
        "  print(list[i])\n",
        "  i += 1\n"
      ],
      "metadata": {
        "colab": {
          "base_uri": "https://localhost:8080/"
        },
        "id": "i97VP5Vh3bEp",
        "outputId": "39f5bc8e-1c62-4772-8420-7c2bd548f7fb"
      },
      "execution_count": 66,
      "outputs": [
        {
          "output_type": "stream",
          "name": "stdout",
          "text": [
            "0.2654287566322753\n",
            "0.6368441762420216\n",
            "0.4208465006054185\n",
            "0.22044988814522426\n",
            "0.7306333062792925\n",
            "0.8604844377101412\n",
            "0.32279338591900797\n",
            "0.17825527086890003\n",
            "0.04297485505126719\n",
            "0.22201610021043328\n"
          ]
        }
      ]
    }
  ]
}